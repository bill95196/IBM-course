{
 "cells": [
  {
   "cell_type": "markdown",
   "id": "f7a2d9c6-81ea-4548-a7a5-144fada3f13c",
   "metadata": {},
   "source": [
    "# Data Science Tools and Ecosystem "
   ]
  },
  {
   "cell_type": "markdown",
   "id": "0232ef3e-8790-4c05-9941-645bf7a786f5",
   "metadata": {},
   "source": [
    "In this notebook, Data Science Tools and Ecosystem are summarized."
   ]
  },
  {
   "cell_type": "markdown",
   "id": "72aed016-9dd3-4be7-a5a1-cc55197404ee",
   "metadata": {},
   "source": [
    "**Objectives**:\n",
    "- List popular languages for Data Science\n",
    "- List commonly used libraries used by Data Scientists\n",
    "- Arithmetic expressions in python\n",
    "\n",
    "## Author\n",
    "Tao "
   ]
  },
  {
   "cell_type": "markdown",
   "id": "26b07311-a273-4558-804a-aea63127791b",
   "metadata": {},
   "source": [
    "#### Some of the popular languages that Data Scientists use are:\n",
    "1. Python \n",
    "2. R\n",
    "3. Julia\n",
    "4. Java\n",
    "5. Sql"
   ]
  },
  {
   "cell_type": "markdown",
   "id": "e91c3bad-7c39-4f93-99b5-d1669433fcb8",
   "metadata": {
    "tags": []
   },
   "source": [
    "#### Some of the commonly used libraries used by Data Scientists include:\n",
    "1. ggplot\n",
    "2. seaborn\n",
    "3. pandas\n",
    "4. numpy\n",
    "5. tensorflow"
   ]
  },
  {
   "cell_type": "markdown",
   "id": "47df78fb-2f5f-4ff3-a035-62e53d183a20",
   "metadata": {
    "jp-MarkdownHeadingCollapsed": true,
    "tags": []
   },
   "source": [
    "| Data Science Tools | \n",
    "|----------|\n",
    "| Jupyter Notebook   | \n",
    "| RStudio | \n",
    "| Visual Studio | \n"
   ]
  },
  {
   "cell_type": "markdown",
   "id": "e2ad2f71-f45b-47ba-947c-852894280ddb",
   "metadata": {
    "tags": []
   },
   "source": [
    "### Below are a few examples of evaluating arithmetic expressions in Python"
   ]
  },
  {
   "cell_type": "code",
   "execution_count": 3,
   "id": "9ab21641-d2f2-471c-854d-147c282eed14",
   "metadata": {
    "tags": []
   },
   "outputs": [
    {
     "data": {
      "text/plain": [
       "17"
      ]
     },
     "execution_count": 3,
     "metadata": {},
     "output_type": "execute_result"
    }
   ],
   "source": [
    "(3*4)+5\n",
    "# This a simple arithmetic expression to mutiply then add integers"
   ]
  },
  {
   "cell_type": "code",
   "execution_count": 5,
   "id": "8af98e15-5410-4451-b949-9c3dad560ac8",
   "metadata": {
    "tags": []
   },
   "outputs": [
    {
     "data": {
      "text/plain": [
       "3.3333333333333335"
      ]
     },
     "execution_count": 5,
     "metadata": {},
     "output_type": "execute_result"
    }
   ],
   "source": [
    "minutes = 200\n",
    "hours = 200/60\n",
    "hours\n",
    "# This will convert 200 minutes to hours by diving by 60"
   ]
  },
  {
   "cell_type": "code",
   "execution_count": null,
   "id": "1bf87963-e0e8-48ca-993b-64a807a8af53",
   "metadata": {},
   "outputs": [],
   "source": []
  }
 ],
 "metadata": {
  "kernelspec": {
   "display_name": "Python",
   "language": "python",
   "name": "conda-env-python-py"
  },
  "language_info": {
   "codemirror_mode": {
    "name": "ipython",
    "version": 3
   },
   "file_extension": ".py",
   "mimetype": "text/x-python",
   "name": "python",
   "nbconvert_exporter": "python",
   "pygments_lexer": "ipython3",
   "version": "3.7.12"
  }
 },
 "nbformat": 4,
 "nbformat_minor": 5
}
