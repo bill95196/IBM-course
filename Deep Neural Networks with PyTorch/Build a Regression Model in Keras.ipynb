{
 "cells": [
  {
   "cell_type": "markdown",
   "id": "9665491a-0c1e-4207-80e8-df7fc3929492",
   "metadata": {
    "tags": []
   },
   "source": [
    "# Build a Regression Model in Keras"
   ]
  },
  {
   "cell_type": "markdown",
   "id": "3bc74268-6642-47b4-a233-3ea4c5390d86",
   "metadata": {},
   "source": [
    "### Download and Clean Dataset"
   ]
  },
  {
   "cell_type": "code",
   "execution_count": 14,
   "id": "896c6a17-abe5-4683-af3a-78474e83c2a9",
   "metadata": {
    "tags": []
   },
   "outputs": [],
   "source": [
    "import pandas as pd\n",
    "import numpy as np\n",
    "concrete_data = pd.read_csv('https://s3-api.us-geo.objectstorage.softlayer.net/cf-courses-data/CognitiveClass/DL0101EN/labs/data/concrete_data.csv')\n",
    "concrete_data.head()\n",
    "\n",
    "concrete_data_columns = concrete_data.columns\n",
    "\n",
    "predictors = concrete_data[concrete_data_columns[concrete_data_columns != 'Strength']] # all columns except Strength\n",
    "target = concrete_data['Strength'] # Strength column\n",
    "predictors_norm = (predictors - predictors.mean()) / predictors.std()\n",
    "n_cols = predictors_norm.shape[1]"
   ]
  },
  {
   "cell_type": "code",
   "execution_count": 15,
   "id": "7bc1c110-e8b1-4cdf-979f-cdf21f5a36bc",
   "metadata": {
    "tags": []
   },
   "outputs": [
    {
     "data": {
      "text/html": [
       "<div>\n",
       "<style scoped>\n",
       "    .dataframe tbody tr th:only-of-type {\n",
       "        vertical-align: middle;\n",
       "    }\n",
       "\n",
       "    .dataframe tbody tr th {\n",
       "        vertical-align: top;\n",
       "    }\n",
       "\n",
       "    .dataframe thead th {\n",
       "        text-align: right;\n",
       "    }\n",
       "</style>\n",
       "<table border=\"1\" class=\"dataframe\">\n",
       "  <thead>\n",
       "    <tr style=\"text-align: right;\">\n",
       "      <th></th>\n",
       "      <th>Cement</th>\n",
       "      <th>Blast Furnace Slag</th>\n",
       "      <th>Fly Ash</th>\n",
       "      <th>Water</th>\n",
       "      <th>Superplasticizer</th>\n",
       "      <th>Coarse Aggregate</th>\n",
       "      <th>Fine Aggregate</th>\n",
       "      <th>Age</th>\n",
       "    </tr>\n",
       "  </thead>\n",
       "  <tbody>\n",
       "    <tr>\n",
       "      <th>0</th>\n",
       "      <td>540.0</td>\n",
       "      <td>0.0</td>\n",
       "      <td>0.0</td>\n",
       "      <td>162.0</td>\n",
       "      <td>2.5</td>\n",
       "      <td>1040.0</td>\n",
       "      <td>676.0</td>\n",
       "      <td>28</td>\n",
       "    </tr>\n",
       "    <tr>\n",
       "      <th>1</th>\n",
       "      <td>540.0</td>\n",
       "      <td>0.0</td>\n",
       "      <td>0.0</td>\n",
       "      <td>162.0</td>\n",
       "      <td>2.5</td>\n",
       "      <td>1055.0</td>\n",
       "      <td>676.0</td>\n",
       "      <td>28</td>\n",
       "    </tr>\n",
       "    <tr>\n",
       "      <th>2</th>\n",
       "      <td>332.5</td>\n",
       "      <td>142.5</td>\n",
       "      <td>0.0</td>\n",
       "      <td>228.0</td>\n",
       "      <td>0.0</td>\n",
       "      <td>932.0</td>\n",
       "      <td>594.0</td>\n",
       "      <td>270</td>\n",
       "    </tr>\n",
       "    <tr>\n",
       "      <th>3</th>\n",
       "      <td>332.5</td>\n",
       "      <td>142.5</td>\n",
       "      <td>0.0</td>\n",
       "      <td>228.0</td>\n",
       "      <td>0.0</td>\n",
       "      <td>932.0</td>\n",
       "      <td>594.0</td>\n",
       "      <td>365</td>\n",
       "    </tr>\n",
       "    <tr>\n",
       "      <th>4</th>\n",
       "      <td>198.6</td>\n",
       "      <td>132.4</td>\n",
       "      <td>0.0</td>\n",
       "      <td>192.0</td>\n",
       "      <td>0.0</td>\n",
       "      <td>978.4</td>\n",
       "      <td>825.5</td>\n",
       "      <td>360</td>\n",
       "    </tr>\n",
       "  </tbody>\n",
       "</table>\n",
       "</div>"
      ],
      "text/plain": [
       "   Cement  Blast Furnace Slag  Fly Ash  Water  Superplasticizer  \\\n",
       "0   540.0                 0.0      0.0  162.0               2.5   \n",
       "1   540.0                 0.0      0.0  162.0               2.5   \n",
       "2   332.5               142.5      0.0  228.0               0.0   \n",
       "3   332.5               142.5      0.0  228.0               0.0   \n",
       "4   198.6               132.4      0.0  192.0               0.0   \n",
       "\n",
       "   Coarse Aggregate  Fine Aggregate  Age  \n",
       "0            1040.0           676.0   28  \n",
       "1            1055.0           676.0   28  \n",
       "2             932.0           594.0  270  \n",
       "3             932.0           594.0  365  \n",
       "4             978.4           825.5  360  "
      ]
     },
     "execution_count": 15,
     "metadata": {},
     "output_type": "execute_result"
    }
   ],
   "source": [
    "predictors.head()"
   ]
  },
  {
   "cell_type": "code",
   "execution_count": 16,
   "id": "f1c3a81e-b28e-4478-a68d-82d918476f57",
   "metadata": {
    "tags": []
   },
   "outputs": [
    {
     "data": {
      "text/plain": [
       "0    79.99\n",
       "1    61.89\n",
       "2    40.27\n",
       "3    41.05\n",
       "4    44.30\n",
       "Name: Strength, dtype: float64"
      ]
     },
     "execution_count": 16,
     "metadata": {},
     "output_type": "execute_result"
    }
   ],
   "source": [
    "target.head()"
   ]
  },
  {
   "cell_type": "markdown",
   "id": "b333e914-b336-4719-93ba-897bfba5fa0f",
   "metadata": {},
   "source": [
    "### Import Keras¶"
   ]
  },
  {
   "cell_type": "code",
   "execution_count": 17,
   "id": "f5a5d1e0-fd0b-4f34-8bd3-167c7ce0932e",
   "metadata": {
    "tags": []
   },
   "outputs": [],
   "source": [
    "import keras"
   ]
  },
  {
   "cell_type": "markdown",
   "id": "e2596afb-be72-41f5-92ac-6f53fd1dedbd",
   "metadata": {},
   "source": [
    "### A. Build a baseline model (5 marks) \n",
    "\n",
    "Use the Keras library to build a neural network with the following: \n",
    "- One hidden layer of 10 nodes, and a ReLU activation function \n",
    "- Use the adam optimizer and the mean squared error as the loss function. \n",
    "1. Randomly split the data into a training and test sets by holding 30% of the data for testing. You can use the train_test_split helper function from Scikit-learn. \n",
    "2. Train the model on the training data using 50 epochs. \n",
    "3. Evaluate the model on the test data and compute the mean squared error between the predicted concrete strength and the actual concrete strength. You can use the mean_squared_error function from Scikit-learn. \n",
    "4. Repeat steps 1 - 3, 50 times, i.e., create a list of 50 mean squared errors. 5. Report the mean and the standard deviation of the mean squared errors."
   ]
  },
  {
   "cell_type": "code",
   "execution_count": 18,
   "id": "f7acdd97-1c8d-454d-8d6c-28c353717949",
   "metadata": {
    "tags": []
   },
   "outputs": [],
   "source": [
    "from keras.models import Sequential\n",
    "from keras.layers import Dense\n",
    "from sklearn.model_selection import train_test_split"
   ]
  },
  {
   "cell_type": "code",
   "execution_count": 19,
   "id": "2a062e63-436d-4e74-8b2c-3a18993f7fd0",
   "metadata": {
    "tags": []
   },
   "outputs": [],
   "source": [
    "# define regression model\n",
    "def regression_model():\n",
    "    # create model\n",
    "    model = Sequential()\n",
    "    model.add(Dense(10, activation='relu', input_shape=(n_cols,)))\n",
    "    \n",
    "    model.add(Dense(1))\n",
    "    \n",
    "    # compile model\n",
    "    model.compile(optimizer='adam', loss='mean_squared_error')\n",
    "    return model"
   ]
  },
  {
   "cell_type": "code",
   "execution_count": 20,
   "id": "2ab9fce9-9164-452c-953d-e5074cf080e8",
   "metadata": {
    "tags": []
   },
   "outputs": [
    {
     "name": "stdout",
     "output_type": "stream",
     "text": [
      "WARNING:tensorflow:From /home/jupyterlab/conda/envs/python/lib/python3.7/site-packages/keras/backend/tensorflow_backend.py:508: The name tf.placeholder is deprecated. Please use tf.compat.v1.placeholder instead.\n",
      "\n",
      "WARNING:tensorflow:From /home/jupyterlab/conda/envs/python/lib/python3.7/site-packages/keras/backend/tensorflow_backend.py:3837: The name tf.random_uniform is deprecated. Please use tf.random.uniform instead.\n",
      "\n",
      "WARNING:tensorflow:From /home/jupyterlab/conda/envs/python/lib/python3.7/site-packages/keras/optimizers.py:757: The name tf.train.Optimizer is deprecated. Please use tf.compat.v1.train.Optimizer instead.\n",
      "\n"
     ]
    }
   ],
   "source": [
    "# build model\n",
    "model = regression_model()"
   ]
  },
  {
   "cell_type": "code",
   "execution_count": 24,
   "id": "f7e14e7b-2319-4ca9-9a27-23744a96362f",
   "metadata": {
    "tags": []
   },
   "outputs": [
    {
     "name": "stdout",
     "output_type": "stream",
     "text": [
      "Cycle #1: mean_squared_error 36831.98242819579\n",
      "Cycle #2: mean_squared_error 5282.880445363066\n",
      "Cycle #3: mean_squared_error 2396.8130981050263\n",
      "Cycle #4: mean_squared_error 1932.9984857750555\n",
      "Cycle #5: mean_squared_error 2164.8257061115746\n",
      "Cycle #6: mean_squared_error 1523.3018214154783\n",
      "Cycle #7: mean_squared_error 1370.467361400814\n",
      "Cycle #8: mean_squared_error 1255.4746046344053\n",
      "Cycle #9: mean_squared_error 1252.6869200672531\n",
      "Cycle #10: mean_squared_error 1090.3929715943568\n",
      "Cycle #11: mean_squared_error 1027.841434614558\n",
      "Cycle #12: mean_squared_error 1108.6445016212833\n",
      "Cycle #13: mean_squared_error 900.6285451747067\n",
      "Cycle #14: mean_squared_error 808.091890106695\n",
      "Cycle #15: mean_squared_error 789.1931016051653\n",
      "Cycle #16: mean_squared_error 684.4735617035801\n",
      "Cycle #17: mean_squared_error 614.1206975152963\n",
      "Cycle #18: mean_squared_error 697.9337077217966\n",
      "Cycle #19: mean_squared_error 588.0026586835053\n",
      "Cycle #20: mean_squared_error 571.1883074812905\n",
      "Cycle #21: mean_squared_error 551.201988639955\n",
      "Cycle #22: mean_squared_error 524.4782626945224\n",
      "Cycle #23: mean_squared_error 486.52515833586165\n",
      "Cycle #24: mean_squared_error 439.76532930540805\n",
      "Cycle #25: mean_squared_error 428.3172626186729\n",
      "Cycle #26: mean_squared_error 424.83109280978204\n",
      "Cycle #27: mean_squared_error 314.4086422225804\n",
      "Cycle #28: mean_squared_error 335.7482843491638\n",
      "Cycle #29: mean_squared_error 336.94324461310424\n",
      "Cycle #30: mean_squared_error 342.4226166067771\n",
      "Cycle #31: mean_squared_error 313.62188091092895\n",
      "Cycle #32: mean_squared_error 317.16374883065333\n",
      "Cycle #33: mean_squared_error 272.98788649673213\n",
      "Cycle #34: mean_squared_error 293.1614957642787\n",
      "Cycle #35: mean_squared_error 329.1862661120961\n",
      "Cycle #36: mean_squared_error 263.2064979331007\n",
      "Cycle #37: mean_squared_error 239.40240399505714\n",
      "Cycle #38: mean_squared_error 285.2794803755183\n",
      "Cycle #39: mean_squared_error 229.935177997478\n",
      "Cycle #40: mean_squared_error 230.47603846676526\n",
      "Cycle #41: mean_squared_error 270.6769568680945\n",
      "Cycle #42: mean_squared_error 244.98148876795105\n",
      "Cycle #43: mean_squared_error 260.6801162275296\n",
      "Cycle #44: mean_squared_error 216.31042426149438\n",
      "Cycle #45: mean_squared_error 265.73982209140814\n",
      "Cycle #46: mean_squared_error 300.0288902702455\n",
      "Cycle #47: mean_squared_error 208.90087549894758\n",
      "Cycle #48: mean_squared_error 277.624841980178\n",
      "Cycle #49: mean_squared_error 235.38797387181748\n",
      "Cycle #50: mean_squared_error 294.26549937424153\n"
     ]
    }
   ],
   "source": [
    "list_of_mean_squared_error = []\n",
    "for cycle in range(50):\n",
    "    #Randomly split the data into a training and test sets by holding 30% of the data for testing\n",
    "    X_train, X_test, y_train, y_test = train_test_split(predictors, target, test_size=0.3)\n",
    "    \n",
    "    res = model.fit(X_train, y_train, epochs=50, verbose=0, validation_data=(X_test, y_test))\n",
    "    \n",
    "    mean_squared_error = res.history['val_loss'][-1]\n",
    "    list_of_mean_squared_error.append(mean_squared_error)\n",
    "    print('Cycle #{}: mean_squared_error {}'.format(cycle+1, mean_squared_error))"
   ]
  },
  {
   "cell_type": "code",
   "execution_count": 23,
   "id": "37f6aecb-dc6a-4a69-b254-cce51ccddd01",
   "metadata": {
    "tags": []
   },
   "outputs": [
    {
     "name": "stdout",
     "output_type": "stream",
     "text": [
      "The mean of the mean squared errors: 60.3748195097593\n",
      "The standard deviation of the mean squared errors: 42.033134569441636\n"
     ]
    }
   ],
   "source": [
    "print('The mean of the mean squared errors: {}'.format(np.mean(list_of_mean_squared_error)))\n",
    "print('The standard deviation of the mean squared errors: {}'.format(np.std(list_of_mean_squared_error)))\n"
   ]
  },
  {
   "cell_type": "markdown",
   "id": "37d78ab3-48f3-453d-bc9b-af0f9744c36e",
   "metadata": {},
   "source": [
    "### B. Normalize the data (5 marks) \n",
    "Repeat Part A but use a normalized version of the data. Recall that one way to normalize the data is by subtracting the mean from the individual predictors and dividing by the standard deviation."
   ]
  },
  {
   "cell_type": "code",
   "execution_count": 26,
   "id": "59307407-d8ad-4848-bc95-9c9dd2f6e7f0",
   "metadata": {
    "tags": []
   },
   "outputs": [
    {
     "name": "stdout",
     "output_type": "stream",
     "text": [
      "Cycle #1: mean_squared_error 284.77674979299405\n",
      "Cycle #2: mean_squared_error 147.54615299755702\n",
      "Cycle #3: mean_squared_error 112.16345417306647\n",
      "Cycle #4: mean_squared_error 91.13640463622257\n",
      "Cycle #5: mean_squared_error 75.59786950268791\n",
      "Cycle #6: mean_squared_error 78.07618696095489\n",
      "Cycle #7: mean_squared_error 72.5763211666959\n",
      "Cycle #8: mean_squared_error 72.05382584753931\n",
      "Cycle #9: mean_squared_error 56.79433947319352\n",
      "Cycle #10: mean_squared_error 65.83881154723923\n",
      "Cycle #11: mean_squared_error 58.22125537958731\n",
      "Cycle #12: mean_squared_error 47.43738694175548\n",
      "Cycle #13: mean_squared_error 44.38718280977416\n",
      "Cycle #14: mean_squared_error 46.89315536647167\n",
      "Cycle #15: mean_squared_error 38.90766019111312\n",
      "Cycle #16: mean_squared_error 37.53701408164015\n",
      "Cycle #17: mean_squared_error 40.11530349632683\n",
      "Cycle #18: mean_squared_error 38.3339255373069\n",
      "Cycle #19: mean_squared_error 38.518517997272575\n",
      "Cycle #20: mean_squared_error 40.610376302478386\n",
      "Cycle #21: mean_squared_error 38.29820425533554\n",
      "Cycle #22: mean_squared_error 34.95993777771984\n",
      "Cycle #23: mean_squared_error 32.826071304025\n",
      "Cycle #24: mean_squared_error 42.73125351594104\n",
      "Cycle #25: mean_squared_error 33.453110741180126\n",
      "Cycle #26: mean_squared_error 35.03233916396848\n",
      "Cycle #27: mean_squared_error 42.45854644405032\n",
      "Cycle #28: mean_squared_error 40.82926656976101\n",
      "Cycle #29: mean_squared_error 33.41164631519503\n",
      "Cycle #30: mean_squared_error 37.232675465951075\n",
      "Cycle #31: mean_squared_error 37.88103958549623\n",
      "Cycle #32: mean_squared_error 36.7781675270846\n",
      "Cycle #33: mean_squared_error 37.61549080536975\n",
      "Cycle #34: mean_squared_error 37.78507838820177\n",
      "Cycle #35: mean_squared_error 41.862231257663964\n",
      "Cycle #36: mean_squared_error 34.39208007861881\n",
      "Cycle #37: mean_squared_error 31.505880824956307\n",
      "Cycle #38: mean_squared_error 38.33297504190488\n",
      "Cycle #39: mean_squared_error 35.85846686131746\n",
      "Cycle #40: mean_squared_error 40.20405050234501\n",
      "Cycle #41: mean_squared_error 36.39334121259671\n",
      "Cycle #42: mean_squared_error 33.65195707055743\n",
      "Cycle #43: mean_squared_error 34.89700833416294\n",
      "Cycle #44: mean_squared_error 31.51388913373731\n",
      "Cycle #45: mean_squared_error 43.69812469112063\n",
      "Cycle #46: mean_squared_error 33.79907762348459\n",
      "Cycle #47: mean_squared_error 34.19085537808613\n",
      "Cycle #48: mean_squared_error 36.94513414747121\n",
      "Cycle #49: mean_squared_error 39.09139102330872\n",
      "Cycle #50: mean_squared_error 33.66556445989023\n"
     ]
    }
   ],
   "source": [
    "n_cols = predictors_norm.shape[1]\n",
    "def regression_model2():\n",
    "    model2 = Sequential()\n",
    "    model2.add(Dense(10, activation='relu', input_shape=(n_cols,)))\n",
    "    model2.add(Dense(1))\n",
    "    \n",
    "    model2.compile(optimizer='adam', loss='mean_squared_error')\n",
    "    return model2\n",
    "\n",
    "model2 = regression_model2()\n",
    "\n",
    "list_of_mean_squared_error = []\n",
    "for cycle in range(50):\n",
    "    #Randomly split the data into a training and test sets by holding 30% of the data for testing\n",
    "    X_train, X_test, y_train, y_test = train_test_split(predictors_norm, target, test_size=0.3)\n",
    "    res = model2.fit(X_train, y_train, epochs=50, verbose=0, validation_data=(X_test, y_test))\n",
    "    mean_squared_error = res.history['val_loss'][-1]\n",
    "    #Add value of mean_squared_error for every cycle in list.\n",
    "    list_of_mean_squared_error.append(mean_squared_error)\n",
    "    print('Cycle #{}: mean_squared_error {}'.format(cycle+1, mean_squared_error))\n"
   ]
  },
  {
   "cell_type": "code",
   "execution_count": 27,
   "id": "3d828905-6237-40e5-b9de-f5940313ec58",
   "metadata": {
    "tags": []
   },
   "outputs": [
    {
     "name": "stdout",
     "output_type": "stream",
     "text": [
      "The mean of the mean squared errors: 51.7763349940476\n",
      "The standard deviation of the mean squared errors: 39.81077073753699\n"
     ]
    }
   ],
   "source": [
    "print('The mean of the mean squared errors: {}'.format(np.mean(list_of_mean_squared_error)))\n",
    "print('The standard deviation of the mean squared errors: {}'.format(np.std(list_of_mean_squared_error)))"
   ]
  },
  {
   "cell_type": "markdown",
   "id": "57d8d0d9-6373-4d9a-8025-1bdb48c1eaf8",
   "metadata": {},
   "source": [
    "### C. Increate the number of epochs (5 marks) \n",
    "\n",
    "Repeat Part B but use 100 epochs this time for training."
   ]
  },
  {
   "cell_type": "code",
   "execution_count": 28,
   "id": "bfcab6aa-46c1-48a2-8f3c-283e84a6adf2",
   "metadata": {
    "tags": []
   },
   "outputs": [],
   "source": [
    "def regression_model3():\n",
    "    model3 = Sequential()\n",
    "    model3.add(Dense(10, activation='relu', input_shape=(n_cols,)))\n",
    "    model3.add(Dense(1))\n",
    "    \n",
    "    model3.compile(optimizer='adam', loss='mean_squared_error')\n",
    "    return model3\n",
    "\n",
    "model3 = regression_model3() "
   ]
  },
  {
   "cell_type": "code",
   "execution_count": 29,
   "id": "127b1ba0-fd01-4f48-8c3e-8c28a5ae3e0c",
   "metadata": {
    "tags": []
   },
   "outputs": [
    {
     "name": "stdout",
     "output_type": "stream",
     "text": [
      "Cycle #1: mean_squared_error 168.36650910115165\n",
      "Cycle #2: mean_squared_error 98.88765086942506\n",
      "Cycle #3: mean_squared_error 55.46916357984821\n",
      "Cycle #4: mean_squared_error 59.94760189858841\n",
      "Cycle #5: mean_squared_error 48.54547406786082\n",
      "Cycle #6: mean_squared_error 38.80288074086013\n",
      "Cycle #7: mean_squared_error 40.47357638214012\n",
      "Cycle #8: mean_squared_error 39.26551950942351\n",
      "Cycle #9: mean_squared_error 39.720271064239796\n",
      "Cycle #10: mean_squared_error 28.806404533509685\n",
      "Cycle #11: mean_squared_error 33.96547918720924\n",
      "Cycle #12: mean_squared_error 36.0389624166643\n",
      "Cycle #13: mean_squared_error 36.743526273560754\n",
      "Cycle #14: mean_squared_error 39.08382129360557\n",
      "Cycle #15: mean_squared_error 35.89478204474094\n",
      "Cycle #16: mean_squared_error 33.21608567469328\n",
      "Cycle #17: mean_squared_error 37.054719153345594\n",
      "Cycle #18: mean_squared_error 32.746995425918726\n",
      "Cycle #19: mean_squared_error 34.60758033308011\n",
      "Cycle #20: mean_squared_error 37.985461966505326\n",
      "Cycle #21: mean_squared_error 32.34554171022088\n",
      "Cycle #22: mean_squared_error 32.2937116900694\n",
      "Cycle #23: mean_squared_error 29.90632456560351\n",
      "Cycle #24: mean_squared_error 34.11893661276808\n",
      "Cycle #25: mean_squared_error 32.26937312524296\n",
      "Cycle #26: mean_squared_error 35.61434204447231\n",
      "Cycle #27: mean_squared_error 36.34084258341866\n",
      "Cycle #28: mean_squared_error 33.359505576223235\n",
      "Cycle #29: mean_squared_error 32.48365129390581\n",
      "Cycle #30: mean_squared_error 32.462304803545805\n",
      "Cycle #31: mean_squared_error 34.34418796181293\n",
      "Cycle #32: mean_squared_error 33.60030293387503\n",
      "Cycle #33: mean_squared_error 27.22948057674667\n",
      "Cycle #34: mean_squared_error 28.86142156656506\n",
      "Cycle #35: mean_squared_error 28.276537756318028\n",
      "Cycle #36: mean_squared_error 31.529299726763977\n",
      "Cycle #37: mean_squared_error 33.751416061302606\n",
      "Cycle #38: mean_squared_error 30.919862636084694\n",
      "Cycle #39: mean_squared_error 34.01389025098683\n",
      "Cycle #40: mean_squared_error 30.54797241680059\n",
      "Cycle #41: mean_squared_error 25.052054253982494\n",
      "Cycle #42: mean_squared_error 32.72827555832354\n",
      "Cycle #43: mean_squared_error 28.365689496777975\n",
      "Cycle #44: mean_squared_error 31.973726642941966\n",
      "Cycle #45: mean_squared_error 30.629237554605727\n",
      "Cycle #46: mean_squared_error 28.404866277207063\n",
      "Cycle #47: mean_squared_error 26.988038121689485\n",
      "Cycle #48: mean_squared_error 33.66565319789652\n",
      "Cycle #49: mean_squared_error 31.609079786874716\n",
      "Cycle #50: mean_squared_error 29.44058215193764\n"
     ]
    }
   ],
   "source": [
    "list_of_mean_squared_error = []\n",
    "for cycle in range(50):\n",
    "    #Randomly split the data into a training set (70%) and a test set (30%):  \n",
    "    X_train, X_test, y_train, y_test = train_test_split(predictors_norm, target, test_size=0.3)\n",
    "    \n",
    "    res = model3.fit(X_train, y_train, epochs=100, verbose=0, validation_data=(X_test, y_test))\n",
    "\n",
    "    mean_squared_error = res.history['val_loss'][-1]\n",
    "    #Add value of mean_squared_error for every cycle in list.\n",
    "    list_of_mean_squared_error.append(mean_squared_error)\n",
    "    print('Cycle #{}: mean_squared_error {}'.format(cycle+1, mean_squared_error))"
   ]
  },
  {
   "cell_type": "code",
   "execution_count": 31,
   "id": "edb1c477-2507-4455-84aa-c471dba11e38",
   "metadata": {
    "tags": []
   },
   "outputs": [
    {
     "name": "stdout",
     "output_type": "stream",
     "text": [
      "The mean of the mean squared errors: 38.374971489026706\n",
      "The standard deviation of the mean squared errors: 21.57879486975877\n"
     ]
    }
   ],
   "source": [
    "print('The mean of the mean squared errors: {}'.format(np.mean(list_of_mean_squared_error)))\n",
    "print('The standard deviation of the mean squared errors: {}'.format(np.std(list_of_mean_squared_error)))\n"
   ]
  },
  {
   "cell_type": "markdown",
   "id": "d279bc3b-3d61-4084-aa54-cb595cccde9d",
   "metadata": {},
   "source": [
    "### D. Increase the number of hidden layers (5 marks) \n",
    "Repeat part B but use a neural network with the following instead: \n",
    "- Three hidden layers, each of 10 nodes and ReLU activation function."
   ]
  },
  {
   "cell_type": "code",
   "execution_count": 32,
   "id": "3d9f5b7e-6504-4a6c-8c11-bf7c2590adc2",
   "metadata": {
    "tags": []
   },
   "outputs": [],
   "source": [
    "def regression_model4():\n",
    "    model4 = Sequential()\n",
    "    model4.add(Dense(10, activation='relu', input_shape=(n_cols,)))\n",
    "    model4.add(Dense(10, activation='relu'))\n",
    "    model4.add(Dense(10, activation='relu'))\n",
    "    model4.add(Dense(1))\n",
    "    \n",
    "    model4.compile(optimizer='adam', loss='mean_squared_error')\n",
    "    return model4\n",
    "model4 = regression_model4()"
   ]
  },
  {
   "cell_type": "code",
   "execution_count": 33,
   "id": "5322a42c-6517-48b9-b055-c75d16cacba1",
   "metadata": {
    "tags": []
   },
   "outputs": [
    {
     "name": "stdout",
     "output_type": "stream",
     "text": [
      "Cycle #1: mean_squared_error 110.22419798026965\n",
      "Cycle #2: mean_squared_error 64.1749012524256\n",
      "Cycle #3: mean_squared_error 42.73045767009451\n",
      "Cycle #4: mean_squared_error 41.24843651731423\n",
      "Cycle #5: mean_squared_error 36.87208608361895\n",
      "Cycle #6: mean_squared_error 35.65919894616581\n",
      "Cycle #7: mean_squared_error 34.72473376622864\n",
      "Cycle #8: mean_squared_error 26.288962891958292\n",
      "Cycle #9: mean_squared_error 32.55446760554144\n",
      "Cycle #10: mean_squared_error 28.031074918975335\n",
      "Cycle #11: mean_squared_error 27.51808809693963\n",
      "Cycle #12: mean_squared_error 27.958058082555876\n",
      "Cycle #13: mean_squared_error 30.16694363961328\n",
      "Cycle #14: mean_squared_error 29.832561813897684\n",
      "Cycle #15: mean_squared_error 29.791568570924035\n",
      "Cycle #16: mean_squared_error 22.486880496867652\n",
      "Cycle #17: mean_squared_error 24.317123937761128\n",
      "Cycle #18: mean_squared_error 20.179107573425885\n",
      "Cycle #19: mean_squared_error 25.114907952959868\n",
      "Cycle #20: mean_squared_error 29.628307614125866\n",
      "Cycle #21: mean_squared_error 23.648440777676775\n",
      "Cycle #22: mean_squared_error 27.70266542774188\n",
      "Cycle #23: mean_squared_error 26.37497892040265\n",
      "Cycle #24: mean_squared_error 21.820978831318975\n",
      "Cycle #25: mean_squared_error 24.827219793325874\n",
      "Cycle #26: mean_squared_error 24.874649276239587\n",
      "Cycle #27: mean_squared_error 23.179964605658572\n",
      "Cycle #28: mean_squared_error 26.900754434776925\n",
      "Cycle #29: mean_squared_error 24.45003671244896\n",
      "Cycle #30: mean_squared_error 26.251162606149816\n",
      "Cycle #31: mean_squared_error 23.62364031658975\n",
      "Cycle #32: mean_squared_error 21.51252026851123\n",
      "Cycle #33: mean_squared_error 22.342481841547205\n",
      "Cycle #34: mean_squared_error 20.910700551128695\n",
      "Cycle #35: mean_squared_error 18.52597120587494\n",
      "Cycle #36: mean_squared_error 23.959043731195642\n",
      "Cycle #37: mean_squared_error 20.724443833804823\n",
      "Cycle #38: mean_squared_error 23.58053591336247\n",
      "Cycle #39: mean_squared_error 18.5767462029812\n",
      "Cycle #40: mean_squared_error 26.04863640251283\n",
      "Cycle #41: mean_squared_error 26.380365705027163\n",
      "Cycle #42: mean_squared_error 23.843612275848884\n",
      "Cycle #43: mean_squared_error 18.70260714558722\n",
      "Cycle #44: mean_squared_error 22.64667115010876\n",
      "Cycle #45: mean_squared_error 25.98705772597427\n",
      "Cycle #46: mean_squared_error 20.573435354387104\n",
      "Cycle #47: mean_squared_error 21.05118782697758\n",
      "Cycle #48: mean_squared_error 21.438196368973617\n",
      "Cycle #49: mean_squared_error 23.011918700628684\n",
      "Cycle #50: mean_squared_error 22.498826320117345\n"
     ]
    }
   ],
   "source": [
    "list_of_mean_squared_error = []\n",
    "for cycle in range(50):\n",
    "    #Randomly split the data into a training set (70%) and a test set (30%):  \n",
    "    X_train, X_test, y_train, y_test = train_test_split(predictors_norm, target, test_size=0.3)\n",
    "   \n",
    "    res = model4.fit(X_train, y_train, epochs=50, verbose=0, validation_data=(X_test, y_test))\n",
    "    mean_squared_error = res.history['val_loss'][-1]\n",
    "    #Add value of mean_squared_error for every cycle in list.\n",
    "    list_of_mean_squared_error.append(mean_squared_error)\n",
    "    print('Cycle #{}: mean_squared_error {}'.format(cycle+1, mean_squared_error))"
   ]
  },
  {
   "cell_type": "code",
   "execution_count": 34,
   "id": "3dc108a8-504b-4b81-902e-14800d723839",
   "metadata": {
    "tags": []
   },
   "outputs": [
    {
     "name": "stdout",
     "output_type": "stream",
     "text": [
      "The mean of the mean squared errors: 28.309430312770857\n",
      "The standard deviation of the mean squared errors: 13.904076068719386\n"
     ]
    }
   ],
   "source": [
    "print('The mean of the mean squared errors: {}'.format(np.mean(list_of_mean_squared_error)))\n",
    "print('The standard deviation of the mean squared errors: {}'.format(np.std(list_of_mean_squared_error)))\n"
   ]
  },
  {
   "cell_type": "code",
   "execution_count": null,
   "id": "e3e5d5b2-fa12-4cbb-96ea-1cfba785c4ca",
   "metadata": {},
   "outputs": [],
   "source": []
  }
 ],
 "metadata": {
  "kernelspec": {
   "display_name": "Python",
   "language": "python",
   "name": "conda-env-python-py"
  },
  "language_info": {
   "codemirror_mode": {
    "name": "ipython",
    "version": 3
   },
   "file_extension": ".py",
   "mimetype": "text/x-python",
   "name": "python",
   "nbconvert_exporter": "python",
   "pygments_lexer": "ipython3",
   "version": "3.7.12"
  }
 },
 "nbformat": 4,
 "nbformat_minor": 5
}
